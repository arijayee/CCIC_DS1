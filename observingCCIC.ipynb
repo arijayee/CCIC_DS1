{
 "cells": [
  {
   "cell_type": "code",
   "execution_count": 4,
   "id": "6bb9189f",
   "metadata": {},
   "outputs": [
    {
     "name": "stdout",
     "output_type": "stream",
     "text": [
      "This class is 90.9090909090909% male.\n",
      "20\n"
     ]
    }
   ],
   "source": [
    "#VirtualReality \n",
    "#Data Set\n",
    "\n",
    "VrData = [[\"Female\",\"White\",\"N/A\",\"N/A\"],\n",
    " [\"male\",\"Black or African American\",\"CT\",\"11\"],\n",
    " [\"male\",\"Black or African American\",\"EHS\",\"10\"],\n",
    " [\"male\",\"White\",\"CT\",\"11\"],\n",
    " [\"male\",\"White\",\"CT\",\"11\"],\n",
    " [\"male\",\"White\",\"CT\",\"11\"],\n",
    " [\"male\",\"White\",\"EHS\",\"11\"],\n",
    " [\"female\",\"White\",\"SHH\",\"12\"],\n",
    " [\"male\",\"White\",\"CT\",\"11\"],\n",
    " [\"male\",\"White\",\"CT\",\"11\"],\n",
    " [\"male\",\"Asian\",\"OHS\",\"11\"],\n",
    " [\"male\",\"Asian\",\"SHH\",\"12\"],\n",
    " [\"male\",\"Asian\",\"GVH\",\"11\"],\n",
    " [\"male\",\"white\",\"CC\",\"11\"],\n",
    " [\"male\",\"White\",\"GVH\",\"11\"],\n",
    " [\"male\",\"White\",\"EHS\",\"11\"],\n",
    " [\"male\",\"White\",\"CT\",\"10\"],\n",
    " [\"male\",\"White\",\"OHS\",\"11\"],\n",
    " [\"male\",\"White\",\"CT\",\"12\"],\n",
    " [\"male\",\"White\",\"SHH\",\"11\"],\n",
    " [\"male\",\"White\",\"ELV\",\"10\"],\n",
    " [\"non-binary\",\"White\",\"OHS\",\"N/A\"]]\n",
    "\n",
    "\n",
    "VrGender=[[]]\n",
    "#Data Analysis\n",
    "\n",
    "i=0\n",
    "for y in VrData:\n",
    "    if i<= (len(VrData)-1):\n",
    "        if VrData[i][0]==\"male\":\n",
    "            VrGender.append(VrData[i][0])\n",
    "            i = i+1\n",
    "        else:\n",
    "                i=i+1\n",
    "percentOfmales= (len(VrGender)/len(VrData))*100\n",
    "print(\"This class is \" + str(percentOfmales) + \"% male.\")            \n",
    "\n",
    "print(len(VrGender))\n",
    "\n",
    "    \n",
    "\n",
    "               \n",
    "\n",
    "\n",
    "\n"
   ]
  },
  {
   "cell_type": "code",
   "execution_count": 43,
   "id": "671da333",
   "metadata": {},
   "outputs": [],
   "source": [
    "#Introduction to Computer Programming Data Set\n",
    "\n",
    "\n",
    "introCom = [[\"Female\",\"White\",\"N/A\",\"N/A\"],\n",
    " [\"Non-binary\",\"Black or African American\",\"SHH\",\"11\"],\n",
    " [\"female\",\"Asian\",\"SHH\",\"10\"],\n",
    " [\"female\",\"Hispanic or Latino\",\"SHH\",\"11\"],\n",
    " [\"female\",\"Black or African America\",\"SHH\",\"11\"],\n",
    " [\"male\",\"White\",\"SHH\",\"10\"],\n",
    " [\"male\",\"White\",\"ELV\",\"11\"],\n",
    " [\"male\",\"Asian\",\"SHH\",\"10\"],\n",
    " [\"male\",\"Black or African American\",\"SHH\",\"11\"],\n",
    " [\"male\",\"White\",\"SHH\",\"11\"],\n",
    " [\"male\",\"White\",\"SHH\",\"11\"],\n",
    " [\"female\",\"White\",\"SHH\",\"11\"],\n",
    " [\"male\",\"white\",\"SHH\",\"11\"],\n",
    " [\"male\",\"Black or African American\",\"SHH\",\"10\"],\n",
    " [\"Male\",\"White\",\"SHH\",\"10\"],\n",
    " [\"male\",\"Black or AfricanAmerican\",\"SHH\",\"11\"],\n",
    " [\"male\",\"White\",\"SHH\",\"11\"],\n",
    " [\"Female\",\"Asian\",\"SHH\",\"11\"],\n",
    " [\"male\",\"White\",\"SHH\",\"12\"]]\n",
    "\n"
   ]
  },
  {
   "cell_type": "code",
   "execution_count": null,
   "id": "485fb1b0",
   "metadata": {},
   "outputs": [],
   "source": []
  }
 ],
 "metadata": {
  "kernelspec": {
   "display_name": "Python 3 (ipykernel)",
   "language": "python",
   "name": "python3"
  },
  "language_info": {
   "codemirror_mode": {
    "name": "ipython",
    "version": 3
   },
   "file_extension": ".py",
   "mimetype": "text/x-python",
   "name": "python",
   "nbconvert_exporter": "python",
   "pygments_lexer": "ipython3",
   "version": "3.9.12"
  }
 },
 "nbformat": 4,
 "nbformat_minor": 5
}
