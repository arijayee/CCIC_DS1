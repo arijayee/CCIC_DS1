{
 "cells": [
  {
   "cell_type": "code",
   "execution_count": 17,
   "id": "e42cfc1d",
   "metadata": {},
   "outputs": [
    {
     "name": "stdout",
     "output_type": "stream",
     "text": [
      "9471.133825920682\n"
     ]
    }
   ],
   "source": [
    "#problem number one\n",
    "P= 400\n",
    "r= 0.17\n",
    "n= 12\n",
    "t= 20\n",
    "l= 1\n",
    "A = P*(l+r/n)**n*t\n",
    "print(A)"
   ]
  },
  {
   "cell_type": "code",
   "execution_count": 18,
   "id": "b59acf40",
   "metadata": {},
   "outputs": [
    {
     "name": "stdout",
     "output_type": "stream",
     "text": [
      "19.6\n"
     ]
    }
   ],
   "source": [
    "p=140\n",
    "c=.14\n",
    "a= p*c\n",
    "print(a)"
   ]
  },
  {
   "cell_type": "code",
   "execution_count": 19,
   "id": "a21f1584",
   "metadata": {},
   "outputs": [
    {
     "name": "stdout",
     "output_type": "stream",
     "text": [
      "1891.895963976297\n"
     ]
    }
   ],
   "source": [
    "r=0.05\n",
    "n=6\n",
    "t=6\n",
    "p=300\n",
    "l=1\n",
    "A =p*(l+r/n)**n*t\n",
    "print(A)"
   ]
  },
  {
   "cell_type": "code",
   "execution_count": 34,
   "id": "a1d019d6",
   "metadata": {},
   "outputs": [
    {
     "name": "stdout",
     "output_type": "stream",
     "text": [
      "351.0\n",
      "28.0\n"
     ]
    }
   ],
   "source": [
    "p= 850\n",
    "c= 0.03\n",
    "f=120\n",
    "t=0.1\n",
    "A= 26*((p*c)-(f*t))\n",
    "print(A)\n",
    "B = p*26*(c+t)//100\n",
    "print(B)"
   ]
  },
  {
   "cell_type": "code",
   "execution_count": 33,
   "id": "f4607af0",
   "metadata": {},
   "outputs": [
    {
     "name": "stdout",
     "output_type": "stream",
     "text": [
      "7.0\n"
     ]
    }
   ],
   "source": [
    "p=50\n",
    "A=400\n",
    "n=1\n",
    "t=1\n",
    "l=1\n",
    "r= n*(A/p)**(1=l/n*t)-1\n",
    "print(r)\n",
    "\n"
   ]
  },
  {
   "cell_type": "code",
   "execution_count": 35,
   "id": "a503d9ea",
   "metadata": {},
   "outputs": [
    {
     "name": "stdout",
     "output_type": "stream",
     "text": [
      "909.5\n"
     ]
    }
   ],
   "source": [
    "r=.07\n",
    "n=1\n",
    "t=1\n",
    "l=1\n",
    "P=1,385\n",
    "A =p*(l+r/n)**n*t\n",
    "print(A)"
   ]
  },
  {
   "cell_type": "code",
   "execution_count": null,
   "id": "3c0bcb47",
   "metadata": {},
   "outputs": [],
   "source": []
  }
 ],
 "metadata": {
  "kernelspec": {
   "display_name": "Python 3 (ipykernel)",
   "language": "python",
   "name": "python3"
  },
  "language_info": {
   "codemirror_mode": {
    "name": "ipython",
    "version": 3
   },
   "file_extension": ".py",
   "mimetype": "text/x-python",
   "name": "python",
   "nbconvert_exporter": "python",
   "pygments_lexer": "ipython3",
   "version": "3.9.12"
  }
 },
 "nbformat": 4,
 "nbformat_minor": 5
}
