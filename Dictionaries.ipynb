{
 "cells": [
  {
   "cell_type": "code",
   "execution_count": null,
   "id": "afb31e5e",
   "metadata": {},
   "outputs": [],
   "source": [
    "DaysOfTheWeek ={ \"Monday\":[\"turn in TSA form\",\"Go to CS CTSO meet\",\"Go to Work\"], \n",
    "                 \"tuesday\":[\"be sure to have all missing work completed\",\"Go to Robotics\",\"Do Homework\"],\n",
    "                 \"Wednesday\":[\"Be packed for utah\",\"Clean Room\",\"Go to work\"],\n",
    "                 \"Thursday\":[\"feed plants\",\"go to school\"],\n",
    "                 \"Friday\":[\"have fun\",\"Do trails\"],\n",
    "                 \"Saturday\":[\"Do schoolWork\",\"Hang out with mom\"],\n",
    "                 \"Sunday\":[\"have fun\",\"Get ready to go home\"]}\n",
    "todos = input(\"Pick what day youd like to see: \")\n",
    "print(DaysOfTheWeek[todos])"
   ]
  },
  {
   "cell_type": "code",
   "execution_count": null,
   "id": "b5d571cb",
   "metadata": {},
   "outputs": [],
   "source": [
    "data = {\"2001-08-01\":[\"Wednesday\",50,25,71],\n",
    "        \"2001-08-02\":[\"Thursday\",60,31,53],\n",
    "        \"2001-08-03\":[\"Friday\",51,24,50],\n",
    "        \"2001-08-04\":[\"Saturday\",79,21,69],\n",
    "        \"2001-08-05\":[\"Sunday\",77,39,57],\n",
    "        \"2001-08-06\":[\"Monday\",93,40,66],\n",
    "        \"2001-08-07\":[\"Tuesday\",55,32,63],\n",
    "        \"2001-08-08\":[\"Wednesday\",87,89,1],}\n",
    "  data.pop(\"2001-08-01\")      "
   ]
  },
  {
   "cell_type": "code",
   "execution_count": null,
   "id": "ba196eb1",
   "metadata": {},
   "outputs": [],
   "source": []
  },
  {
   "cell_type": "code",
   "execution_count": null,
   "id": "fa38fb6b",
   "metadata": {},
   "outputs": [],
   "source": []
  },
  {
   "cell_type": "code",
   "execution_count": null,
   "id": "c680cf21",
   "metadata": {},
   "outputs": [],
   "source": []
  },
  {
   "cell_type": "code",
   "execution_count": null,
   "id": "da25bc6e",
   "metadata": {},
   "outputs": [],
   "source": []
  }
 ],
 "metadata": {
  "kernelspec": {
   "display_name": "Python 3 (ipykernel)",
   "language": "python",
   "name": "python3"
  },
  "language_info": {
   "codemirror_mode": {
    "name": "ipython",
    "version": 3
   },
   "file_extension": ".py",
   "mimetype": "text/x-python",
   "name": "python",
   "nbconvert_exporter": "python",
   "pygments_lexer": "ipython3",
   "version": "3.9.12"
  }
 },
 "nbformat": 4,
 "nbformat_minor": 5
}
