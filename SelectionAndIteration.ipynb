{
 "cells": [
  {
   "cell_type": "code",
   "execution_count": 7,
   "id": "ab2e0f22",
   "metadata": {},
   "outputs": [
    {
     "name": "stdout",
     "output_type": "stream",
     "text": [
      "enter a number:3\n",
      "enter a length: 4\n"
     ]
    }
   ],
   "source": [
    "number= int(input(\"enter a number:\"))\n",
    "length = int(input(\"enter a length: \"))\n",
    "\n",
    "userlist=[]\n",
    "\n",
    "for i in range(1, length + 1):\n",
    "    userlist.append(i * number)\n"
   ]
  },
  {
   "cell_type": "code",
   "execution_count": 8,
   "id": "5a1a733c",
   "metadata": {},
   "outputs": [
    {
     "name": "stdout",
     "output_type": "stream",
     "text": [
      "[3, 6, 9, 12]\n"
     ]
    }
   ],
   "source": [
    "print(userlist)"
   ]
  },
  {
   "cell_type": "code",
   "execution_count": 3,
   "id": "b041a4c5",
   "metadata": {},
   "outputs": [
    {
     "name": "stdout",
     "output_type": "stream",
     "text": [
      "enter a message: cat\n"
     ]
    }
   ],
   "source": [
    "message = input(\"enter a message: \")\n",
    "\n",
    "char_to_dots = {\n",
    "  'A': '.-', 'B': '-...', 'C': '-.-.', 'D': '-..', 'E': '.', 'F': '..-.',\n",
    "  'G': '--.', 'H': '....', 'I': '..', 'J': '.---', 'K': '-.-', 'L': '.-..',\n",
    "  'M': '--', 'N': '-.', 'O': '---', 'P': '.--.', 'Q': '--.-', 'R': '.-.',\n",
    "  'S': '...', 'T': '-', 'U': '..-', 'V': '...-', 'W': '.--', 'X': '-..-',\n",
    "  'Y': '-.--', 'Z': '--..', ' ': ' ', '0': '-----',\n",
    "  '1': '.----', '2': '..---', '3': '...--', '4': '....-', '5': '.....',\n",
    "  '6': '-....', '7': '--...', '8': '---..', '9': '----.',\n",
    "  '&': '.-...', \"'\": '.----.', '@': '.--.-.', ')': '-.--.-', '(': '-.--.',\n",
    "  ':': '---...', ',': '--..--', '=': '-...-', '!': '-.-.--', '.': '.-.-.-',\n",
    "  '-': '-....-', '+': '.-.-.', '\"': '.-..-.', '?': '..--..', '/': '-..-.'\n",
    "}\n",
    "\n",
    "    \n",
    "\n",
    "\n",
    "\n"
   ]
  },
  {
   "cell_type": "code",
   "execution_count": 28,
   "id": "8d5b0a4f",
   "metadata": {},
   "outputs": [],
   "source": [
    "stage= [[1,2,3,4,5,6],\n",
    "              [6,8,9,10,11,12],\n",
    "              [13,14,15,16,17,18]]\n",
    "\n"
   ]
  },
  {
   "cell_type": "code",
   "execution_count": 29,
   "id": "fdfdb42d",
   "metadata": {},
   "outputs": [],
   "source": [
    "r = len(stage)-1\n",
    "c = 0"
   ]
  },
  {
   "cell_type": "code",
   "execution_count": 30,
   "id": "72b19e17",
   "metadata": {},
   "outputs": [],
   "source": [
    "result= True"
   ]
  },
  {
   "cell_type": "code",
   "execution_count": 31,
   "id": "d2107535",
   "metadata": {},
   "outputs": [
    {
     "name": "stdout",
     "output_type": "stream",
     "text": [
      "True\n"
     ]
    }
   ],
   "source": [
    "for column in range(len(stage[0])):\n",
    "    for row in range (len(stage)):\n",
    "        if row < len(stage) -1 and stage[row][column]>=stage[row+1][column]:\n",
    "            result = False \n",
    "            break \n",
    "print(result)\n",
    "    "
   ]
  },
  {
   "cell_type": "code",
   "execution_count": null,
   "id": "80c846e2",
   "metadata": {},
   "outputs": [],
   "source": []
  }
 ],
 "metadata": {
  "kernelspec": {
   "display_name": "Python 3 (ipykernel)",
   "language": "python",
   "name": "python3"
  },
  "language_info": {
   "codemirror_mode": {
    "name": "ipython",
    "version": 3
   },
   "file_extension": ".py",
   "mimetype": "text/x-python",
   "name": "python",
   "nbconvert_exporter": "python",
   "pygments_lexer": "ipython3",
   "version": "3.9.12"
  }
 },
 "nbformat": 4,
 "nbformat_minor": 5
}
