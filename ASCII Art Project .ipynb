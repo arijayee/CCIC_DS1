{
 "cells": [
  {
   "cell_type": "code",
   "execution_count": null,
   "id": "69c27307",
   "metadata": {},
   "outputs": [],
   "source": [
    "print(\"Ari                             Ar\")\n",
    "print(\" A ri A                       Ari Ar\")\n",
    "print(\"Ar iAr                     Ari Aria\")\n",
    "print(\" Ari, Ariar  A  Ariari      Ariari A\")\n",
    "print(\" Ariar Ari Ar Ariari A Ariar AriAriA\")\n",
    "print(\" Aria AriAriA Ari AriAriAr   AriAri\")\n",
    "print(\"  .  AriAriAr  AriAri  AriAriA   Ari\")\n",
    "print(\" Ar AriAri A AriAr AriAriA  Ari\")\n",
    "print(\"Ar AriAri     Ar AriA    ariA Ari\")\n",
    "print(\"AriA Ari a     Ari Ar     AriAriAriAr\")\n",
    "print(\"Aria AriAri  AriAri Ar A Ariar Ari\")\n",
    "print(\"Ar a AriAr AriAriA Ari AriAriAriA Ar\")\n",
    "print(\"A AriAr AriAr AriAr AriAriAriAr  AriA\")"
   ]
  }
 ],
 "metadata": {
  "kernelspec": {
   "display_name": "Python 3 (ipykernel)",
   "language": "python",
   "name": "python3"
  },
  "language_info": {
   "codemirror_mode": {
    "name": "ipython",
    "version": 3
   },
   "file_extension": ".py",
   "mimetype": "text/x-python",
   "name": "python",
   "nbconvert_exporter": "python",
   "pygments_lexer": "ipython3",
   "version": "3.9.12"
  }
 },
 "nbformat": 4,
 "nbformat_minor": 5
}
